{
 "cells": [
  {
   "cell_type": "code",
   "execution_count": 16,
   "metadata": {
    "collapsed": false
   },
   "outputs": [],
   "source": [
    "import numpy as np\n",
    "import pandas as pd\n",
    "from keras.models import Sequential\n",
    "from keras.layers import Dense\n",
    "from keras.layers import Dropout\n",
    "from keras.layers import LSTM\n",
    "from keras.callbacks import ModelCheckpoint\n",
    "from keras.utils import np_utils"
   ]
  },
  {
   "cell_type": "code",
   "execution_count": 2,
   "metadata": {
    "collapsed": false
   },
   "outputs": [
    {
     "data": {
      "text/html": [
       "<div>\n",
       "<style scoped>\n",
       "    .dataframe tbody tr th:only-of-type {\n",
       "        vertical-align: middle;\n",
       "    }\n",
       "\n",
       "    .dataframe tbody tr th {\n",
       "        vertical-align: top;\n",
       "    }\n",
       "\n",
       "    .dataframe thead th {\n",
       "        text-align: right;\n",
       "    }\n",
       "</style>\n",
       "<table border=\"1\" class=\"dataframe\">\n",
       "  <thead>\n",
       "    <tr style=\"text-align: right;\">\n",
       "      <th></th>\n",
       "      <th>Album</th>\n",
       "      <th>Song</th>\n",
       "      <th>Lyrics</th>\n",
       "    </tr>\n",
       "  </thead>\n",
       "  <tbody>\n",
       "    <tr>\n",
       "      <th>0</th>\n",
       "      <td>I'm With You</td>\n",
       "      <td>Monarchy of Roses</td>\n",
       "      <td>The crimson tide is flowing through your finge...</td>\n",
       "    </tr>\n",
       "    <tr>\n",
       "      <th>1</th>\n",
       "      <td>I'm With You</td>\n",
       "      <td>Factory of Faith</td>\n",
       "      <td>All my life I was swinging for the fence,\\nI w...</td>\n",
       "    </tr>\n",
       "    <tr>\n",
       "      <th>2</th>\n",
       "      <td>I'm With You</td>\n",
       "      <td>Brendan's Death Song</td>\n",
       "      <td>If I die before I get it done\\nWill you decide...</td>\n",
       "    </tr>\n",
       "    <tr>\n",
       "      <th>3</th>\n",
       "      <td>I'm With You</td>\n",
       "      <td>Ethiopa</td>\n",
       "      <td>We're rolling everybody, it starts with bass\"\\...</td>\n",
       "    </tr>\n",
       "    <tr>\n",
       "      <th>4</th>\n",
       "      <td>I'm With You</td>\n",
       "      <td>Annie Wants A Baby</td>\n",
       "      <td>Lucy Rebar, she's a friend of mine\\nLater she'...</td>\n",
       "    </tr>\n",
       "    <tr>\n",
       "      <th>5</th>\n",
       "      <td>I'm With You</td>\n",
       "      <td>Look Around</td>\n",
       "      <td>Stiff club, it's my nature,\\nCustom love is th...</td>\n",
       "    </tr>\n",
       "    <tr>\n",
       "      <th>6</th>\n",
       "      <td>I'm With You</td>\n",
       "      <td>The Adventures of Raindance Maggie</td>\n",
       "      <td>Lipstick junkie\\nDebunked the all in one\\nShe ...</td>\n",
       "    </tr>\n",
       "    <tr>\n",
       "      <th>7</th>\n",
       "      <td>I'm With You</td>\n",
       "      <td>Did I Let You Know</td>\n",
       "      <td>m comin' for you 'cause I adore you and\\nI'd l...</td>\n",
       "    </tr>\n",
       "    <tr>\n",
       "      <th>8</th>\n",
       "      <td>I'm With You</td>\n",
       "      <td>Goodbye Hooray</td>\n",
       "      <td>Wooh, wooh, ha\\nJunior paints that old cafe\\nH...</td>\n",
       "    </tr>\n",
       "    <tr>\n",
       "      <th>9</th>\n",
       "      <td>I'm With You</td>\n",
       "      <td>Happiness Loves Company</td>\n",
       "      <td>Stop marching 'cause you think you shot to num...</td>\n",
       "    </tr>\n",
       "  </tbody>\n",
       "</table>\n",
       "</div>"
      ],
      "text/plain": [
       "          Album                                Song  \\\n",
       "0  I'm With You                   Monarchy of Roses   \n",
       "1  I'm With You                    Factory of Faith   \n",
       "2  I'm With You                Brendan's Death Song   \n",
       "3  I'm With You                             Ethiopa   \n",
       "4  I'm With You                  Annie Wants A Baby   \n",
       "5  I'm With You                         Look Around   \n",
       "6  I'm With You  The Adventures of Raindance Maggie   \n",
       "7  I'm With You                  Did I Let You Know   \n",
       "8  I'm With You                      Goodbye Hooray   \n",
       "9  I'm With You             Happiness Loves Company   \n",
       "\n",
       "                                              Lyrics  \n",
       "0  The crimson tide is flowing through your finge...  \n",
       "1  All my life I was swinging for the fence,\\nI w...  \n",
       "2  If I die before I get it done\\nWill you decide...  \n",
       "3  We're rolling everybody, it starts with bass\"\\...  \n",
       "4  Lucy Rebar, she's a friend of mine\\nLater she'...  \n",
       "5  Stiff club, it's my nature,\\nCustom love is th...  \n",
       "6  Lipstick junkie\\nDebunked the all in one\\nShe ...  \n",
       "7  m comin' for you 'cause I adore you and\\nI'd l...  \n",
       "8  Wooh, wooh, ha\\nJunior paints that old cafe\\nH...  \n",
       "9  Stop marching 'cause you think you shot to num...  "
      ]
     },
     "execution_count": 2,
     "metadata": {},
     "output_type": "execute_result"
    }
   ],
   "source": [
    "rhcp_songs = pd.read_excel('rhcp_songs.xlsx')\n",
    "rhcp_songs.head(10)"
   ]
  },
  {
   "cell_type": "code",
   "execution_count": 5,
   "metadata": {
    "collapsed": true
   },
   "outputs": [],
   "source": [
    "raw_text = rhcp_songs['Lyrics'].iloc[0]"
   ]
  },
  {
   "cell_type": "code",
   "execution_count": 6,
   "metadata": {
    "collapsed": false
   },
   "outputs": [
    {
     "data": {
      "text/plain": [
       "\"The crimson tide is flowing through your fingers as you sleep\\nThe promise of a clean regime are promises we keep\\nDo you like it rough I ask and are you up to task?\\nThe catacombs of bet and bone where cultures come to clash\\nSeveral of my best friends wear, \\nThe colors of the crown\\nAnd Mary wants to fill it up, \\nAnd Sherry wants to tear it all back down, girl\\nThe savior of your light\\nThe monarchy of roses \\nThe monarchy of roses tonight\\nThe cloth between my former queen, her legendary stare\\nThe holy tears that I am in, the lovely cross to bear\\nSeveral of my best friends know, \\nThe secrets of this town\\nAnd Mary wants to raise it up, \\nAnd Sherry wants to spit it all around, girl\\nThe sailors of the night\\nThe monarchy of roses \\nThe monarchy of roses tonight\\nSeveral of my best friends wear, \\nThe colors of the crown\\nAnd Mary wants to fill it up, \\nAnd Sherry wants to tear it all back down, girl\\nThe savior of your light\\nThe monarchy of roses \\nThe monarchy of roses\\nHey yeah\\nWe all want the rose you know\\nI said, hey yeah\\nShow us love before you go\\nSay I will, and then say I'll want to\\nThe story of love that I'll never taunt you\\nHey yeah\\nWe all want the rose you know\\nI said, hey yeah\\nShow us love before you go\\nSay I will, and then I'll say I want to\\nThe story of love that I'll always want you\\nHey\""
      ]
     },
     "execution_count": 6,
     "metadata": {},
     "output_type": "execute_result"
    }
   ],
   "source": [
    "raw_text"
   ]
  },
  {
   "cell_type": "code",
   "execution_count": 24,
   "metadata": {
    "collapsed": false
   },
   "outputs": [],
   "source": [
    "from keras.preprocessing.text import Tokenizer\n",
    "tokenizer = Tokenizer()"
   ]
  },
  {
   "cell_type": "code",
   "execution_count": 25,
   "metadata": {
    "collapsed": true
   },
   "outputs": [],
   "source": [
    "tokenizer.fit_on_texts(rhcp_songs['Lyrics'])"
   ]
  },
  {
   "cell_type": "code",
   "execution_count": null,
   "metadata": {
    "collapsed": true
   },
   "outputs": [],
   "source": []
  },
  {
   "cell_type": "code",
   "execution_count": 7,
   "metadata": {
    "collapsed": true
   },
   "outputs": [],
   "source": [
    "chars = sorted(list(set(raw_text)))\n",
    "char_to_int = dict((c, i) for i, c in enumerate(chars))"
   ]
  },
  {
   "cell_type": "code",
   "execution_count": 9,
   "metadata": {
    "collapsed": false
   },
   "outputs": [
    {
     "name": "stdout",
     "output_type": "stream",
     "text": [
      "Total Characters:  1303\n",
      "Total Vocab:  36\n"
     ]
    }
   ],
   "source": [
    "n_chars = len(raw_text)\n",
    "n_vocab = len(chars)\n",
    "print(\"Total Characters: \", n_chars)\n",
    "print(\"Total Vocab: \", n_vocab)"
   ]
  },
  {
   "cell_type": "code",
   "execution_count": 12,
   "metadata": {
    "collapsed": false
   },
   "outputs": [
    {
     "name": "stdout",
     "output_type": "stream",
     "text": [
      "Total Patterns:  1203\n"
     ]
    }
   ],
   "source": [
    "# prepare the dataset of input to output pairs encoded as integers\n",
    "seq_length = 100\n",
    "dataX = []\n",
    "dataY = []\n",
    "for i in range(0, n_chars - seq_length, 1):\n",
    "\tseq_in = raw_text[i:i + seq_length]\n",
    "\tseq_out = raw_text[i + seq_length]\n",
    "\tdataX.append([char_to_int[char] for char in seq_in])\n",
    "\tdataY.append(char_to_int[seq_out])\n",
    "n_patterns = len(dataX)\n",
    "print(\"Total Patterns: \", n_patterns)"
   ]
  },
  {
   "cell_type": "code",
   "execution_count": 17,
   "metadata": {
    "collapsed": false
   },
   "outputs": [
    {
     "data": {
      "text/plain": [
       "(1203, 100)"
      ]
     },
     "execution_count": 17,
     "metadata": {},
     "output_type": "execute_result"
    }
   ],
   "source": [
    "np.array(dataX).shape"
   ]
  },
  {
   "cell_type": "code",
   "execution_count": null,
   "metadata": {
    "collapsed": true
   },
   "outputs": [],
   "source": [
    "seq_length = 100\n",
    "dataX = []\n",
    "dataY = []\n",
    "for i in range(len(rhcp_songs)):\n",
    "    raw_text = rhcp_songs['Lyrics'].iloc[i]:\n",
    "    "
   ]
  }
 ],
 "metadata": {
  "anaconda-cloud": {},
  "kernelspec": {
   "display_name": "Python [conda root]",
   "language": "python",
   "name": "conda-root-py"
  },
  "language_info": {
   "codemirror_mode": {
    "name": "ipython",
    "version": 3
   },
   "file_extension": ".py",
   "mimetype": "text/x-python",
   "name": "python",
   "nbconvert_exporter": "python",
   "pygments_lexer": "ipython3",
   "version": "3.5.2"
  }
 },
 "nbformat": 4,
 "nbformat_minor": 2
}
